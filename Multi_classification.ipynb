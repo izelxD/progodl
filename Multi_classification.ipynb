{
  "nbformat": 4,
  "nbformat_minor": 0,
  "metadata": {
    "colab": {
      "provenance": []
    },
    "kernelspec": {
      "name": "python3",
      "display_name": "Python 3"
    },
    "language_info": {
      "name": "python"
    }
  },
  "cells": [
    {
      "cell_type": "code",
      "execution_count": null,
      "metadata": {
        "id": "6Xs0VCO_jZza"
      },
      "outputs": [],
      "source": [
        "import numpy as np\n",
        "from tensorflow.keras.models import Sequential\n",
        "from tensorflow.keras.layers import Dense, Dropout\n",
        "from tensorflow.keras.optimizers import RMSprop\n",
        "from tensorflow.keras.datasets import mnist\n",
        "import matplotlib.pyplot as plt\n",
        "from sklearn import metrics\n",
        "\n",
        "# Load the OCR dataset\n",
        "\n",
        "# The MNIST dataset is a built-in dataset provided by Keras.\n",
        "# It consists of 70,000 28x28 grayscale images, each of which displays a single handwritten digit from 0 to 9.\n",
        "# The training set consists of 60,000 images, while the test set has 10,000 images.\n",
        "\n",
        "(x_train, y_train), (x_test, y_test) = mnist.load_data()\n",
        "\n",
        "# X_train and X_test are our array of images while y_train and y_test are our array of labels for each image.\n",
        "# The first tuple contains the training set features (X_train) and the training set labels (y_train). \n",
        "# The second tuple contains the testing set features (X_test) and the testing set labels (y_test).\n",
        "# For example, if the image shows a handwritten 7, then the label will be the intger 7.\n",
        "\n",
        "plt.imshow(x_train[0], cmap='gray')  # imshow() function which simply displays an image.\n",
        "plt.show() # cmap is responsible for mapping a specific colormap to the values found in the array that you passed as the first argument.\n",
        "\n",
        "# image appears black and white and that each axis of the plot ranges from 0 to 28.\n",
        "\n",
        "# This is because of the format that all the images in the dataset have:\n",
        "\n",
        "# 1. All the images are grayscale, meaning they only contain black, white and grey.\n",
        "# 2. The images are 28 pixels by 25 pixels in size (28x28).\n",
        "\n",
        "print(x_train[0])\n",
        "\n",
        "# image data is just an array of digits. You can almost make out a 5 from the pattern of the digits in the array.\n",
        "# Array of 28 values\n",
        "# a grayscale pixel is stored as a digit between 0 and 255 where 0 is black, 255 is white and values in between are different shades of gray.\n",
        "# Therefore, each value in the [28][28] array tells the computer which color to put in that position when we display the actual image."
      ]
    },
    {
      "cell_type": "code",
      "source": [
        "# reformat our X_train array and our X_test array because they do not have the correct shape.\n",
        "# Reshape the data to fit the model\n",
        "print(\"X_train shape\", x_train.shape)\n",
        "print(\"y_train shape\", y_train.shape)\n",
        "print(\"X_test shape\", x_test.shape)\n",
        "print(\"y_test shape\", y_test.shape)\n",
        "\n",
        "\n",
        "# Here you can see that for the training sets we have 60,000 elements and the testing sets have 10,000 elements.\n",
        "\n",
        "# y_train and y_test only have 1 dimensional shapes because they are just the labels of each element.\n",
        "\n",
        "# x_train and x_test have 3 dimensional shapes because they have a width and height (28x28 pixels) for each element.\n",
        "\n",
        "# (60000, 28, 28) 1st parameter in the tuple shows us how much image we have 2nd and 3rd parameters are the pixel values from x to y (28x28) \n",
        "# The pixel value varies between 0 to 255.\n",
        "# (60000,) Training labels with integers from 0-9 with dtype of uint8. It has the shape (60000,).\n",
        "# (10000, 28, 28) Testing data that consists of grayscale images. It has the shape (10000, 28, 28) and the dtype of uint8. The pixel value varies between 0 to 255.\n",
        "# (10000,) Testing labels that consist of integers from 0-9 with dtype uint8. It has the shape (10000,)."
      ],
      "metadata": {
        "id": "ge9eMWxzot0z"
      },
      "execution_count": null,
      "outputs": []
    },
    {
      "cell_type": "code",
      "source": [
        "# X: Training data of shape (n_samples, n_features)\n",
        "# y: Training label values of shape (n_samples, n_labels)\n",
        "# 2D array of height and width, 28 pixels by 28 pixels will just become 784 pixels (28 squared).\n",
        "# Remember that X_train has 60,000 elemenets, each with 784 total pixels so will become shape (60000, 784).\n",
        "# Whereas X_test has 10,000 elements, each with each with 784 total pixels so will become shape (10000, 784).\n",
        "\n",
        "x_train = x_train.reshape(60000, 784)\n",
        "x_test = x_test.reshape(10000, 784)\n",
        "x_train = x_train.astype('float32') # use 32-bit precision when training a neural network, so at one point the training data will have to be converted to 32 bit floats. Since the dataset fits easily in RAM, we might as well convert to float immediately.\n",
        "x_test = x_test.astype('float32')\n",
        "x_train /= 255  # Each image has Intensity from 0 to 255\n",
        "x_test /= 255\n",
        "\n",
        "# Regarding the division by 255, this is the maximum value of a byte (the input feature's type before the conversion to float32), \n",
        "# so this will ensure that the input features are scaled between 0.0 and 1.0. \n",
        "# USING svm-https://mgta.gmu.edu/courses/ml-with-python/handwrittenDigitRecognition.php#:~:text=Remember%20that%20X_train%20has%2060%2C000,keras."
      ],
      "metadata": {
        "id": "ZjruSc-Gq0vV"
      },
      "execution_count": null,
      "outputs": []
    },
    {
      "cell_type": "code",
      "source": [
        "# Convert class vectors to binary class matrices\n",
        "num_classes = 10\n",
        "y_train = np.eye(num_classes)[y_train]  # Return a 2-D array with ones on the diagonal and zeros elsewhere.\n",
        "y_test = np.eye(num_classes)[y_test] # f your particular categories is present then it mark as 1 else 0 in remain row"
      ],
      "metadata": {
        "id": "EeP1nbNsrf7M"
      },
      "execution_count": null,
      "outputs": []
    },
    {
      "cell_type": "code",
      "source": [
        "# Define the model architecture\n",
        "model = Sequential()\n",
        "model.add(Dense(512, activation='relu', input_shape=(784,)))  # The input_shape argument is passed to the foremost layer. It comprises of a tuple shape,\n",
        "model.add(Dropout(0.2)) # DROP OUT RATIO 20%\n",
        "model.add(Dense(512, activation='relu')) #returns a sequence of vectors of dimension 512  \n",
        "model.add(Dropout(0.2))\n",
        "model.add(Dense(num_classes, activation='softmax'))"
      ],
      "metadata": {
        "id": "nPPFDxE5u_sm"
      },
      "execution_count": null,
      "outputs": []
    },
    {
      "cell_type": "code",
      "source": [
        "# Compile the model\n",
        "model.compile(loss='categorical_crossentropy',  # for a multi-class classification problem  \n",
        "              optimizer=RMSprop(),\n",
        "              metrics=['accuracy'])"
      ],
      "metadata": {
        "id": "fD5FPvIzwZlm"
      },
      "execution_count": null,
      "outputs": []
    },
    {
      "cell_type": "code",
      "source": [
        "# Train the model\n",
        "batch_size = 128 # batch_size argument is passed to the layer to define a batch size for the inputs.\n",
        "epochs = 20\n",
        "history = model.fit(x_train, y_train,\n",
        "                    batch_size=batch_size,\n",
        "                    epochs=epochs,\n",
        "                    verbose=1, # verbose=1 will show you an animated progress bar eg. [==========]\n",
        "                    validation_data=(x_test, y_test)) # Using validation_data means you are providing the training set and validation set yourself, \n",
        "                                                      # validation_split means you only provide a training set and keras splits it into a training set and a validation set\n"
      ],
      "metadata": {
        "id": "Swa7DnVSxHFD"
      },
      "execution_count": null,
      "outputs": []
    },
    {
      "cell_type": "code",
      "source": [
        "# Evaluate the model\n",
        "score = model.evaluate(x_test, y_test, verbose=0)\n",
        "print('Test loss:', score[0])\n",
        "print('Test accuracy:', score[1])"
      ],
      "metadata": {
        "id": "yLG2AE8tyP1m"
      },
      "execution_count": null,
      "outputs": []
    }
  ]
}
